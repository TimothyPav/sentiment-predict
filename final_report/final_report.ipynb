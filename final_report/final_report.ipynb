{
 "cells": [
  {
   "cell_type": "markdown",
   "id": "c36e128f",
   "metadata": {},
   "source": [
    "# Sentiment Adjusted Stock Prediction\n",
    "By:\n",
    "\n",
    "Date: /2025"
   ]
  },
  {
   "cell_type": "markdown",
   "id": "d0f38cc9",
   "metadata": {},
   "source": [
    "With the virtually infinite amount of information floating around on social media about current world affairs, it would be nice to be able to automatically parse the information and get the data you need related to which investments you should buy. We can solve this problem by building a program to automatically scrape the data and derive key details from it using AI.\n",
    "\n",
    "We believe that we can get a better picture of what stocks will be if we can combine 2 things, well optimized stock data and a twitter api. The first part of this report will focus on the:"
   ]
  },
  {
   "cell_type": "markdown",
   "id": "20d5f355",
   "metadata": {},
   "source": [
    "# Stock Data Collection\n",
    "\n",
    "Large detailed stock datasets were hard to come by, so we had to come up with a strategy to build a large enough dataset within a few acceptance criteria:\n",
    "\n",
    "- A large array of stocks, given in this project as \"stock_tickers.csv\" or S\n",
    "- Stocks that were going to stay relatively stable, for this I selected a list of the companies with the largest market cap descending, and collected as large a data set as possible (max(size(S)))\n",
    "- Stocks that were freely available with the data from Alpha Vantage (the API used in this project) set of Alpha Vantage given A, condition S in A\n",
    "- Stocks will be picked from the top of the Nasdaq top stock list S_i = N_i, i = {1,2,3,\\dots,n}\n",
    "- Number of pulls the API will allow me to do from Wall Street close on Friday to open on Monday (don't know how to express this one as the API throttling seems to happen at random)\n",
    "\n",
    "Provided mathematically as:\n",
    "\n",
    "max(size(S))\n",
    "\n",
    "s.t.\n",
    "\n",
    "S in A\n",
    "\n",
    "S_i = N_i, i = {1,2,3,\\dots,n}\n",
    "\n"
   ]
  },
  {
   "cell_type": "markdown",
   "id": "bf68984b",
   "metadata": {},
   "source": [
    "## Objective Function max(size(S))\n",
    "This "
   ]
  }
 ],
 "metadata": {
  "language_info": {
   "name": "python"
  }
 },
 "nbformat": 4,
 "nbformat_minor": 5
}
