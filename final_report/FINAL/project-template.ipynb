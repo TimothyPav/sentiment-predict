{
 "cells": [
  {
   "cell_type": "markdown",
   "metadata": {},
   "source": [
    "### ECE/CS/ISyE 524 &mdash; Introduction to Optimization ###\n",
    "\n",
    "# Sentiment Adjusted Trading Optimization #\n",
    "\n",
    "#### Will Geister (wgeister@wisc.edu), Student 2 (email address), Student 3 (email address), and Student 4 (email address)\n",
    "\n",
    "*****\n",
    "\n",
    "### Table of Contents\n",
    "\n",
    "1. [Introduction](#1.-Introduction)\n",
    "1. [Mathematical Model](#2.-Mathematical-model)\n",
    "1. [Solution](#3.-Solution)\n",
    "1. [Results and Discussion](#4.-Results-and-discussion)\n",
    "  1. [Optional Subsection](#4.A.-Feel-free-to-add-subsections)\n",
    "1. [Conclusion](#5.-Conclusion)"
   ]
  },
  {
   "cell_type": "markdown",
   "metadata": {
    "collapsed": true,
    "jupyter": {
     "outputs_hidden": true
    }
   },
   "source": [
    "## 1. Introduction ##\n",
    "\n",
    "The basic concept behind a stock trading optimizer is fairly simple, and has been gone over in class plenty, what has not been gone over"
   ]
  },
  {
   "cell_type": "markdown",
   "metadata": {
    "collapsed": true,
    "jupyter": {
     "outputs_hidden": true
    }
   },
   "source": [
    "## 2. Mathematical model ##\n",
    "\n",
    "A discussion of the modeling assumptions made in the problem (e.g., is it from physics? economics? something else?). Explain the decision variables, the constraints, and the objective function, both in words and in math. Discuss the model type (LP, QP, MIP, etc.). \n",
    "For this section you should **assume the reader is familiar with the material covered in class**.\n",
    "\n",
    "Equations should be formatted in $\\LaTeX$ within the IJulia notebook. The internet is full of resources on how to use $\\LaTeX$!\n",
    "\n",
    "Here is an example of an equation:\n",
    "\n",
    "$$\n",
    "Ax=b\n",
    "$$\n",
    "\n",
    "If the equation is short, you can also write it inline $Ax=b$. This also works for explaining the different symbols. For example, for the previous equation, you would want to include the following explanation: We consider the equation $Ax=b$, where $A$ is a matrix, $x$ is a vector of variables, and $b$ is the right hand side vector. \n",
    "\n",
    "Here is an example of how you can write a matrix:\n",
    "\n",
    "$$\n",
    "\\begin{bmatrix}\n",
    "  1 & 2 \\\\\n",
    "  3 & 4\n",
    "\\end{bmatrix}\n",
    "\\begin{bmatrix} x \\\\ y \\end{bmatrix} =\n",
    "\\begin{bmatrix} 5 \\\\ 6 \\end{bmatrix}\n",
    "$$\n",
    "\n",
    "And here is an example of how to typically write an optimization problem. Notice the use of the \"aligned\" environment, which aligns subsequent equations at the position of the \\& signs:\n",
    "\n",
    "$$\n",
    "\\begin{aligned}\n",
    "\\underset{x \\in \\mathbb{R}^n}{\\text{maximize}}\\quad & \\mathbf{E}^T x \\\\\n",
    "\\text{subject to:} \\quad & \\sum_{i=1}^{n} x_i = 1, \\\\\n",
    "& x_i \\leq 0.3 \\quad \\text{for all} \\quad i = 1, \\dots, n, \\\\\n",
    "& x_i \\geq 0 \\quad \\text{for all} \\quad i = 1, \\dots, n\n",
    "\\end{aligned}\n",
    "$$\n",
    "Where:\n",
    "  - $x_i$ represents the allocation to the $i$-th stock in the portfolio.\n",
    "  - $\\mathbf{E}$ is the vector of expected returns for each stock, i.e., $\\mu_{NS}$ from the code.\n",
    "  - The objective function is to maximize the expected return of the portfolio, $\\mathbf{E}^T x$, which is the dot product of the expected return vector and the allocation vector.\n",
    "  - The first constraint ensures that the sum of the allocations is 1, meaning the portfolio is fully invested.\n",
    "  - The second constraint limits the maximum allocation to any single stock to 30\\% (i.e., $x_i \\leq 0.3$).\n",
    "  - The third constraint ensures that the allocations are non-negative (i.e., $x_i \\geq 0$).\n",
    "\n",
    "Additionally, the code incorporates a risk term related to the portfolio's variance or covariance matrix $\\sigma$, where the risk is penalized in the objective function. This can be incorporated as follows:\n",
    "$$\n",
    "\\text{Objective:} \\quad \\mathbf{E}^T x - \\lambda x^T \\sigma x \\\\\n",
    "$$\n",
    "\n",
    "\n",
    "Where:\n",
    "  - $\\sigma$ is the covariance matrix of stock returns.\n",
    "  - $\\lambda$ is the risk aversion parameter (set to 0.5 in the code). The term $\\lambda x^T \\sigma x$ penalizes the variance of the portfolio, thus balancing between maximizing return and minimizing risk.\n",
    "\n",
    "However this all constitutes how a normal trade optimizer works, our \"sentiment-adjusted\" trade optimizer adds a new variable into the mix\n"
   ]
  },
  {
   "cell_type": "markdown",
   "metadata": {
    "collapsed": true,
    "jupyter": {
     "outputs_hidden": true
    }
   },
   "source": [
    "## 3. Implementation ##\n",
    "\n",
    "\n",
    "\n",
    "Here, you should code up your model in Julia + JuMP and solve it. Your code should be clean, easy to read, well annotated and commented, and it should compile! You are not allowed to use other programming languages or DCP packages such as `convex.jl`. **We will be running your code, and you want to make sure that everything works if we run the code blocks in sequence**. Having multiple code blocks separated by text blocks (either as separate cells or blocks of comments) that explain the various parts of your solution will make it much easier for us to understand your project. \n",
    "\n",
    "We would also like to see that you make several variants or run different kinds of analysis for your problem (e.g., by changing the input parameters, the constraints or objective, or deriving a dual problem). We expect at least 1-2 such problem variants as part of your project.\n",
    "\n",
    "**Remember that if you do not write your description of the project and comment your code well, we cannot understand what you have done. Even if it is technically brilliant, you will lose points if you do not write well and comment your code well.**\n",
    "It's fine to call solvers and external packages we have used in the course such as `Gurobi` or `Plots`, but try to minimize the use of other packages. We want to be able to understand what is happening in your code without looking up additional references. "
   ]
  },
  {
   "cell_type": "code",
   "execution_count": 7,
   "metadata": {},
   "outputs": [
    {
     "name": "stdout",
     "output_type": "stream",
     "text": [
      "Data Read IN\n"
     ]
    }
   ],
   "source": [
    "using CSV\n",
    "using DataFrames\n",
    "using Statistics\n",
    "using JuMP\n",
    "using Ipopt\n",
    "\n",
    "# Load stock data\n",
    "stock_data = CSV.read(\"master_stock_data_sectors.csv\", DataFrame)\n",
    "function compute_returns(df)\n",
    "    df = sort(df, :ticker)\n",
    "    returns = [missing; diff(df.close) ./ df.close[1:end-1]]\n",
    "    df[!, :return] = returns\n",
    "    return df\n",
    "end\n",
    "println(\"Data Read IN\")"
   ]
  },
  {
   "cell_type": "code",
   "execution_count": 8,
   "metadata": {},
   "outputs": [
    {
     "name": "stdout",
     "output_type": "stream",
     "text": [
      "Sigma calculated\n"
     ]
    }
   ],
   "source": [
    "returns_data = combine(groupby(stock_data, :ticker), compute_returns) # Compute returns\n",
    "returns_wide = unstack(returns_data, :ticker, :return; combine=mean)\n",
    "returns_wide_clean = dropmissing(returns_wide) # Drop rows with missing returns\n",
    "\n",
    "clean_stocks = names(returns_wide_clean) # Stocks that have all data\n",
    "valid_stock_data = filter(row -> row[:ticker] in clean_stocks, stock_data)\n",
    "returns_matrix = Matrix{Float64}(returns_wide_clean[:, clean_stocks])\n",
    "\n",
    "sigma = cov(returns_matrix) # Compute the covariance matrix for the returns (sigma)\n",
    "println(\"Sigma calculated\")"
   ]
  },
  {
   "cell_type": "code",
   "execution_count": 37,
   "metadata": {},
   "outputs": [
    {
     "name": "stdout",
     "output_type": "stream",
     "text": [
      "Results saved to top_stocks_no_sentiment.csv.\n"
     ]
    }
   ],
   "source": [
    "ticker_sector = CSV.read(\"tickers_with_sectors.csv\", DataFrame)\n",
    "sector_sentiment = CSV.read(\"sector_sentiment.csv\", DataFrame)\n",
    "\n",
    "muNS = Float64[]\n",
    "\n",
    "# lookup dictionaries\n",
    "ticker_to_sector = Dict(row.ticker => row.sector for row in eachrow(ticker_sector))\n",
    "sector_to_sentiment = Dict(row.Sector => row.Average_Sentiment_Score for row in eachrow(sector_sentiment))\n",
    "\n",
    "for stock in clean_stocks\n",
    "    timepoints = subset(valid_stock_data, :ticker => ByRow(==(stock)))\n",
    "    expected_return = 0.0\n",
    "    for time in eachrow(timepoints)\n",
    "        ret = (time[:open] - time[:close]) / time[:open]\n",
    "        expected_return += ret\n",
    "    end\n",
    "    expected_return /= 100\n",
    "\n",
    "    if ismissing(expected_return) || isnan(expected_return) || isinf(expected_return) # Bad stock catch\n",
    "        continue\n",
    "    end\n",
    "\n",
    "    push!(muNS, expected_return)\n",
    "end\n",
    "\n",
    "extra_elements_needed = size(sigma, 1) - length(muNS)\n",
    "if extra_elements_needed > 0 # If extra elements are needed, add duplicate entries to mu, manually fix data later\n",
    "    push!(muNS, repeat([muNS[end]], extra_elements_needed)...)\n",
    "end\n",
    "\n",
    "lambda = 0.5\n",
    "model = Model(Ipopt.Optimizer)\n",
    "n_stocks = length(muNS)\n",
    "\n",
    "@variable(model, x[1:n_stocks] >= 0)\n",
    "@constraint(model, sum(x) == 1)\n",
    "\n",
    "@constraint(model, [i=1:n_stocks], x[i] <= 0.3)  # Limit: max 30% allocation per stock\n",
    "\n",
    "@objective(model, Min, -muNS' * x + lambda * (x' * sigma * x))\n",
    "\n",
    "set_optimizer_attribute(model, \"print_level\", 0)  # silence IPopt\n",
    "\n",
    "optimize!(model)\n",
    "\n",
    "stocks_info = [(clean_stocks[i], value(x[i]), muNS[i]) for i in 1:n_stocks]\n",
    "\n",
    "# Sort stocks by optimal allocation (descending) for risk categorization\n",
    "sorted_stocks = sort(stocks_info, by = x -> x[2], rev=true)\n",
    "\n",
    "# List of tickers to drop <-- this is needed because of empty data slots from our api calls and a generative function that assigns them for unused matrix slots\n",
    "tickers_to_drop = Set([\"open\", \"close\", \"high\", \"low\", \"volume\", \"sector\", \"CCZ\"])\n",
    "filtered_stocks = filter(stock_info -> !(stock_info[1] in tickers_to_drop), sorted_stocks)\n",
    "\n",
    "# Add sector information to each stock to better understand the sentiment\n",
    "stocks_with_sectors = [\n",
    "    (stock[1], stock[2], stock[3], get(ticker_to_sector, stock[1], \"Unknown\")) \n",
    "    for stock in filtered_stocks\n",
    "]\n",
    "\n",
    "# Write to CSV, including sector\n",
    "csv_filename = \"top_stocks_no_sentiment.csv\"\n",
    "CSV.write(csv_filename, DataFrame(Stock = [stock[1] for stock in stocks_with_sectors],\n",
    "                                 Allocation = [stock[2] * 100 for stock in stocks_with_sectors],\n",
    "                                 ExpectedReturn = [stock[3] * 100 for stock in stocks_with_sectors],\n",
    "                                 Sector = [stock[4] for stock in stocks_with_sectors]))\n",
    "\n",
    "println(\"Results saved to $csv_filename.\")\n"
   ]
  },
  {
   "cell_type": "code",
   "execution_count": 38,
   "metadata": {},
   "outputs": [
    {
     "name": "stdout",
     "output_type": "stream",
     "text": [
      "Results saved to top_stocks_with_sentiment.csv.\n"
     ]
    }
   ],
   "source": [
    "ticker_sector = CSV.read(\"tickers_with_sectors.csv\", DataFrame)\n",
    "sector_sentiment = CSV.read(\"sector_sentiment.csv\", DataFrame)\n",
    "\n",
    "# lookup dictionaries\n",
    "ticker_to_sector = Dict(row.ticker => row.sector for row in eachrow(ticker_sector))\n",
    "sector_to_sentiment = Dict(row.Sector => row.Average_Sentiment_Score for row in eachrow(sector_sentiment))\n",
    "\n",
    "# user-defined weight for sentiment influence\n",
    "sentiment_weight = 10.0  # ADJUST HERE\n",
    "\n",
    "muS = Float64[]\n",
    "\n",
    "for stock in clean_stocks\n",
    "    timepoints = subset(valid_stock_data, :ticker => ByRow(==(stock)))\n",
    "    expected_return = 0.0\n",
    "\n",
    "    for time in eachrow(timepoints)\n",
    "        ret = (time[:open] - time[:close]) / time[:open]\n",
    "        expected_return += ret\n",
    "    end\n",
    "\n",
    "    expected_return /= 100\n",
    "\n",
    "    if ismissing(expected_return) || isnan(expected_return) || isinf(expected_return)\n",
    "        continue\n",
    "    end\n",
    "\n",
    "    # Apply sector sentiment adjustment\n",
    "    sector = get(ticker_to_sector, stock, nothing)\n",
    "    sentiment_adjustment = 0.0\n",
    "    if sector !== nothing\n",
    "        sentiment_adjustment = get(sector_to_sentiment, sector, 0.0) * sentiment_weight\n",
    "    else\n",
    "        ## used to have printer for debugger here\n",
    "    end\n",
    "\n",
    "    push!(muS, expected_return + sentiment_adjustment)\n",
    "end\n",
    "\n",
    "extra_elements_needed = size(sigma, 1) - length(muS)\n",
    "if extra_elements_needed > 0 # If extra elements are needed, add duplicate entries to mu, manually fix data later\n",
    "    push!(muS, repeat([muS[end]], extra_elements_needed)...)\n",
    "end\n",
    "\n",
    "lambda = 0.5\n",
    "model = Model(Ipopt.Optimizer)\n",
    "n_stocks = length(muS)\n",
    "\n",
    "@variable(model, x[1:n_stocks] >= 0)\n",
    "@constraint(model, sum(x) == 1)\n",
    "\n",
    "@constraint(model, [i=1:n_stocks], x[i] <= 0.3)  # Limit: max 30% allocation per stock\n",
    "\n",
    "@objective(model, Min, -muS' * x + lambda * (x' * sigma * x))\n",
    "\n",
    "set_optimizer_attribute(model, \"print_level\", 0)  # silence IPopt\n",
    "\n",
    "optimize!(model)\n",
    "\n",
    "stocks_info = [(clean_stocks[i], value(x[i]), mu[i]) for i in 1:n_stocks]\n",
    "\n",
    "# Sort stocks by optimal allocation (descending) for risk categorization\n",
    "sorted_stocks = sort(stocks_info, by = x -> x[2], rev=true)\n",
    "\n",
    "\n",
    "# List of tickers to drop <-- this is needed because of empty data slots from our api calls and a generative function that assigns them for unused matrix slots\n",
    "tickers_to_drop = Set([\"open\", \"close\", \"high\", \"low\", \"volume\", \"sector\", \"CCZ\"])\n",
    "filtered_stocks = filter(stock_info -> !(stock_info[1] in tickers_to_drop), sorted_stocks)\n",
    "\n",
    "# Add sector information to each stock to better understand the sentiment\n",
    "stocks_with_sectors = [\n",
    "    (stock[1], stock[2], stock[3], get(ticker_to_sector, stock[1], \"Unknown\")) \n",
    "    for stock in filtered_stocks\n",
    "]\n",
    "\n",
    "# Write to CSV, including sector\n",
    "csv_filename = \"top_stocks_with_sentiment.csv\"\n",
    "CSV.write(csv_filename, DataFrame(Stock = [stock[1] for stock in stocks_with_sectors],\n",
    "                                 Allocation = [stock[2] * 100 for stock in stocks_with_sectors],\n",
    "                                 ExpectedReturn = [stock[3] * 100 for stock in stocks_with_sectors],\n",
    "                                 Sector = [stock[4] for stock in stocks_with_sectors]))\n",
    "\n",
    "println(\"Results saved to $csv_filename.\")"
   ]
  },
  {
   "cell_type": "markdown",
   "metadata": {
    "collapsed": true,
    "jupyter": {
     "outputs_hidden": true
    }
   },
   "source": [
    "## 4. Results and discussion ##\n",
    "\n",
    "In this section, you display and discuss the results. Show figures, plots, images, trade-off curves, or whatever else you can think of to best illustrate your results. The discussion should explain what the results mean, and how to interpret them. You should also explain the limitations of your approach/model and how sensitive your results are to the assumptions you made.\n",
    "\n",
    "Use plots (see `PyPlot` examples from class), or you can display results in a table like this:\n",
    "\n",
    "| Tables        | Are           | Cool  |\n",
    "| ------------- |:-------------:| -----:|\n",
    "| col 3 is      | right-aligned |\\$1600 |\n",
    "| col 2 is      | centered      |  \\$12 |\n",
    "| zebra stripes | are neat      |   \\$1 |\n"
   ]
  },
  {
   "cell_type": "markdown",
   "metadata": {},
   "source": [
    "### You can add change the format of sections 2, 3 and 4 to accomodate multiple versions of your model, sensitivity analysis, etc. Just make sure that you answer all the questions we have stated in the final version of your report.\n",
    "\n",
    "### 4.A. You can also add subsections\n",
    "\n",
    "#### 4.A.a. or subsubsections\n",
    "Having more structure in the report can help readers understand your analysis and results!"
   ]
  },
  {
   "cell_type": "markdown",
   "metadata": {
    "collapsed": true,
    "jupyter": {
     "outputs_hidden": true
    }
   },
   "source": [
    "## 5. Conclusion ##\n",
    "\n",
    "Summarize your findings and your results, and talk about at least one possible future direction; something that might be interesting to pursue as a follow-up to your project."
   ]
  },
  {
   "cell_type": "markdown",
   "metadata": {
    "collapsed": true,
    "jupyter": {
     "outputs_hidden": true
    }
   },
   "source": [
    "## 6. Author Contributions\n",
    "\n",
    "Note: The contributions in each category must sum to 100%. See Canvas for more details on what type of work belongs in each category.\n",
    "\n",
    "#### 1. Modelling  \n",
    "Student A: Percentage contribution %  \n",
    "Student B: Percentage contribution %  \n",
    "Student C: Percentage contribution %  \n",
    "\n",
    "  \n",
    "#### 2. Analysis  \n",
    "Student A: Percentage contribution %  \n",
    "Student B: Percentage contribution %  \n",
    "Student C: Percentage contribution %  \n",
    "\n",
    "\n",
    "#### 3. Data Gathering  \n",
    "Student A: Percentage contribution %  \n",
    "Student B: Percentage contribution %  \n",
    "Student C: Percentage contribution %  \n",
    "\n",
    "\n",
    "#### 4. Software Implementation  \n",
    "Student A: Percentage contribution %  \n",
    "Student B: Percentage contribution %  \n",
    "Student C: Percentage contribution %  \n",
    "\n",
    "\n",
    "#### 5. Report Writing    \n",
    "Student A: Percentage contribution %  \n",
    "Student B: Percentage contribution %  \n",
    "Student C: Percentage contribution %  "
   ]
  },
  {
   "cell_type": "code",
   "execution_count": null,
   "metadata": {},
   "outputs": [],
   "source": []
  }
 ],
 "metadata": {
  "@webio": {
   "lastCommId": null,
   "lastKernelId": null
  },
  "kernelspec": {
   "display_name": "Julia 1.11.3",
   "language": "julia",
   "name": "julia-1.11"
  },
  "language_info": {
   "file_extension": ".jl",
   "mimetype": "application/julia",
   "name": "julia",
   "version": "1.11.3"
  }
 },
 "nbformat": 4,
 "nbformat_minor": 4
}
